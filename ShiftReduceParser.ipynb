{
 "cells": [
  {
   "cell_type": "markdown",
   "metadata": {},
   "source": [
    "<I>A shift-reduce parser as implemented below</T>"
   ]
  },
  {
   "cell_type": "code",
   "execution_count": 1,
   "metadata": {},
   "outputs": [
    {
     "name": "stdout",
     "output_type": "stream",
     "text": [
      "How many rules would you like to add? 1\n",
      "Enter LHS of rule 1: E\n",
      "How many alternatives for this rule would you like to add? 3\n",
      "Enter rhs 1 for this rule: E+E\n",
      "Enter rhs 2 for this rule: E*E\n",
      "Enter rhs 3 for this rule: id\n"
     ]
    },
    {
     "data": {
      "text/plain": [
       "{'E': ['E+E', 'E*E', 'id']}"
      ]
     },
     "execution_count": 1,
     "metadata": {},
     "output_type": "execute_result"
    }
   ],
   "source": [
    "rules = {}\n",
    "no_of_rules = int(input(\"How many rules would you like to add? \"))\n",
    "for i in range(0, no_of_rules):\n",
    "    lhs = input(\"Enter LHS of rule {}: \".format(i+1))\n",
    "    if len(lhs) != 1:\n",
    "        print(\"Kindly keep single non-terminal on lhs\")\n",
    "        exit()\n",
    "    no_of_alternatives = int(input(\"How many alternatives for this rule would you like to add? \"))\n",
    "    rhs = []\n",
    "    for j in range(0, no_of_alternatives):        \n",
    "        rhs.append(input(\"Enter rhs {} for this rule: \".format(j+1)).strip())\n",
    "        rules[lhs] = rhs\n",
    "rules        "
   ]
  },
  {
   "cell_type": "code",
   "execution_count": 21,
   "metadata": {
    "scrolled": true
   },
   "outputs": [
    {
     "data": {
      "text/plain": [
       "'\\nstack = []\\ntop = 0\\nsearch_string = \\'\\' #handle\\nstring = input(\"Enter the string to be parsed: \")\\n# The rule for Shift-Reduce parsing - only the start symbol should remain left in the stack and the string get empty\\nwhile stack[top] == \\'E\\' and string == \\'\\': \\n    top += 1 # incrementing the top\\n    first_character = string[0] # fetching the first terminal assuming that the characters only are allowed\\n    stack[top] = first_character # inserting the fetched character on the top of the stack\\n    string = string.replace(string[0], \\'\\') # removing the fetched character from the string from the string\\n    for i in range(top, 0, ): # searching the stack from the reverse to find the suitable rhs to be reduced to the lhs\\n        search_string = search_string + stack[i] # concatenating the top i elements to form a string to be searched and matched\\n        if search(search_string)()[0] == \\'True\\':\\n            lhs = search(search_string)()[1]\\n            break\\n    for i in range(top, i, -1) # deleting the top i elements as the job is done now\\n        del stack[i]\\n    stack[top] = lhs # inserting the lhs on the top\\n    '"
      ]
     },
     "execution_count": 21,
     "metadata": {},
     "output_type": "execute_result"
    }
   ],
   "source": [
    "stack = []\n",
    "top = 0\n",
    "search_string = '' #handle\n",
    "string = input(\"Enter the string to be parsed: \")\n",
    "# The rule for Shift-Reduce parsing - only the start symbol should remain left in the stack and the string get empty\n",
    "while stack[top] == 'E' and string == '': \n",
    "    top += 1 # incrementing the top\n",
    "    first_character = string[0] # fetching the first terminal assuming that the characters only are allowed\n",
    "    stack[top] = first_character # inserting the fetched character on the top of the stack\n",
    "    string = string.replace(string[0], '') # removing the fetched character from the string from the string\n",
    "    for i in range(top, 0, ): # searching the stack from the reverse to find the suitable rhs to be reduced to the lhs\n",
    "        search_string = search_string + stack[i] # concatenating the top i elements to form a string to be searched and matched\n",
    "        if search(search_string)()[0] == 'True':\n",
    "            lhs = search(search_string)()[1]\n",
    "            break\n",
    "    for i in range(top, i, -1) # deleting the top i elements as the job is done now\n",
    "        del stack[i]\n",
    "    stack[top] = lhs # inserting the lhs on the top"
   ]
  },
  {
   "cell_type": "code",
   "execution_count": 20,
   "metadata": {
    "collapsed": true
   },
   "outputs": [],
   "source": [
    "def search(search_string):\n",
    "    for lhs, rhs in rules:\n",
    "        for string in rhs:\n",
    "            if search_string in rhs:\n",
    "                return True, lhs\n",
    "                break"
   ]
  }
 ],
 "metadata": {
  "kernelspec": {
   "display_name": "Python 3",
   "language": "python",
   "name": "python3"
  },
  "language_info": {
   "codemirror_mode": {
    "name": "ipython",
    "version": 3
   },
   "file_extension": ".py",
   "mimetype": "text/x-python",
   "name": "python",
   "nbconvert_exporter": "python",
   "pygments_lexer": "ipython3",
   "version": "3.6.1"
  }
 },
 "nbformat": 4,
 "nbformat_minor": 2
}
