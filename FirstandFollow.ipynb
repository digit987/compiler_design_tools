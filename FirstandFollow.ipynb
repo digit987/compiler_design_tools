{
 "cells": [
  {
   "cell_type": "code",
   "execution_count": 1,
   "metadata": {
    "collapsed": true
   },
   "outputs": [],
   "source": [
    "import re"
   ]
  },
  {
   "cell_type": "code",
   "execution_count": 63,
   "metadata": {
    "scrolled": true
   },
   "outputs": [
    {
     "name": "stdout",
     "output_type": "stream",
     "text": [
      "How many rules would you like to add? 3\n",
      "Enter LHS of rule 1: S\n",
      "How many alternatives for this rule would you like to add?1\n",
      "Enter rhs 1 for this rule: aXYb\n",
      "Enter LHS of rule 2: X\n",
      "How many alternatives for this rule would you like to add?1\n",
      "Enter rhs 1 for this rule: c\n",
      "Enter LHS of rule 3: Y\n",
      "How many alternatives for this rule would you like to add?1\n",
      "Enter rhs 1 for this rule: d\n"
     ]
    },
    {
     "data": {
      "text/plain": [
       "{'S': ['aXYb'], 'X': ['c'], 'Y': ['d']}"
      ]
     },
     "execution_count": 63,
     "metadata": {},
     "output_type": "execute_result"
    }
   ],
   "source": [
    "rules = {}\n",
    "no_of_rules = int(input(\"How many rules would you like to add? \"))\n",
    "for i in range(0, no_of_rules):\n",
    "    lhs = input(\"Enter LHS of rule {}: \".format(i+1))\n",
    "    if len(lhs) != 1:\n",
    "        print(\"Kindly keep single non-terminal on lhs\")\n",
    "        exit()\n",
    "    no_of_alternatives = int(input(\"How many alternatives for this rule would you like to add? \"))\n",
    "    rhs = []\n",
    "    for j in range(0, no_of_alternatives):        \n",
    "        rhs.append(input(\"Enter rhs {} for this rule: \".format(j+1)).strip())\n",
    "        rules[lhs] = rhs\n",
    "rules        "
   ]
  },
  {
   "cell_type": "code",
   "execution_count": 31,
   "metadata": {
    "collapsed": true
   },
   "outputs": [],
   "source": [
    "def first(non_terminal):\n",
    "    list_first = []    \n",
    "    if non_terminal in rules:\n",
    "        for i in range(0, len(rules[non_terminal])):\n",
    "            rhs = rules[non_terminal][i]\n",
    "            if rhs == 'epsilon':\n",
    "                list_first.append('epsilon')\n",
    "            elif re.compile(r'^[a-z0-9_*/+-]').search(rhs):\n",
    "                list_first.append(rhs[0])                     \n",
    "            else:\n",
    "                list_first.append(first(rhs[0]))                \n",
    "    return list_first"
   ]
  },
  {
   "cell_type": "code",
   "execution_count": 64,
   "metadata": {
    "scrolled": true
   },
   "outputs": [
    {
     "name": "stdout",
     "output_type": "stream",
     "text": [
      "['a']\n",
      "['c']\n",
      "['d']\n"
     ]
    }
   ],
   "source": [
    "print(first('S'))\n",
    "print(first('X'))\n",
    "print(first('Y'))"
   ]
  },
  {
   "cell_type": "code",
   "execution_count": 83,
   "metadata": {
    "collapsed": true
   },
   "outputs": [],
   "source": [
    "def follow(non_terminal):\n",
    "    list_follow = []\n",
    "    next_index = 0\n",
    "    if non_terminal == 'S':\n",
    "        list_follow.append('$')    \n",
    "    for lhs, rhs in rules.items():        \n",
    "        for i in range(0, len(rhs)):            \n",
    "            if non_terminal in rhs[i]:                \n",
    "                while next_index in range(rhs[i].index(non_terminal) + 1, len(rhs[i])):                     \n",
    "                    if 'epsilon' in first(rhs[i][next_index]) and len(first(rhs[i][next_index])) == 1:                        \n",
    "                        continue\n",
    "                    elif 'epsilon' in first(rhs[i][next_index]):\n",
    "                        first(rhs[i][next_index]).remove('epsilon')                        \n",
    "                        list_follow.append(first(rhs[i][next_index]))                      \n",
    "                    else:\n",
    "                        break\n",
    "                if len(list_follow) == 0:\n",
    "                    list_follow.extend(first(lhs))\n",
    "    return list_follow"
   ]
  },
  {
   "cell_type": "code",
   "execution_count": 81,
   "metadata": {
    "scrolled": true
   },
   "outputs": [
    {
     "name": "stdout",
     "output_type": "stream",
     "text": [
      "[]\n"
     ]
    }
   ],
   "source": [
    "follow('Y')"
   ]
  },
  {
   "cell_type": "code",
   "execution_count": 2,
   "metadata": {},
   "outputs": [],
   "source": [
    "print(follow('S'))"
   ]
  }
 ],
 "metadata": {
  "kernelspec": {
   "display_name": "Python 3",
   "language": "python",
   "name": "python3"
  },
  "language_info": {
   "codemirror_mode": {
    "name": "ipython",
    "version": 3
   },
   "file_extension": ".py",
   "mimetype": "text/x-python",
   "name": "python",
   "nbconvert_exporter": "python",
   "pygments_lexer": "ipython3",
   "version": "3.6.6"
  },
  "widgets": {
   "application/vnd.jupyter.widget-state+json": {
    "state": {},
    "version_major": 1,
    "version_minor": 0
   }
  }
 },
 "nbformat": 4,
 "nbformat_minor": 2
}
